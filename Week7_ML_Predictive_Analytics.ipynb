{
  "nbformat": 4,
  "nbformat_minor": 0,
  "metadata": {
    "colab": {
      "provenance": [],
      "toc_visible": true,
      "authorship_tag": "ABX9TyM8VhiVtPvDI7179yDswp2A",
      "include_colab_link": true
    },
    "kernelspec": {
      "name": "python3",
      "display_name": "Python 3"
    },
    "language_info": {
      "name": "python"
    }
  },
  "cells": [
    {
      "cell_type": "markdown",
      "metadata": {
        "id": "view-in-github",
        "colab_type": "text"
      },
      "source": [
        "<a href=\"https://colab.research.google.com/github/lemcat55/w7StatCalc/blob/main/Week7_ML_Predictive_Analytics.ipynb\" target=\"_parent\"><img src=\"https://colab.research.google.com/assets/colab-badge.svg\" alt=\"Open In Colab\"/></a>"
      ]
    },
    {
      "cell_type": "markdown",
      "source": [
        "# 1: ANOVA prediction"
      ],
      "metadata": {
        "id": "s8PE93NAoRvg"
      }
    },
    {
      "cell_type": "code",
      "source": [
        "import pandas as pd \n",
        "import numpy as np \n",
        "from sklearn import linear_model\n",
        "from scipy.stats import f\n",
        "##  Enter your data #####################################################\n",
        "df=pd.read_csv(\"http://algorain.com/Courses/Statistics/w6/RealEstate.csv\")\n",
        "dependant='Price'\n",
        "X = df[['Footage', 'Age']]\n",
        "point_of_interest=[2500,12.]\n",
        "########################\n",
        "#df=pd.read_csv(\"http://algorain.com/Courses/Statistics/w6/Passengers.csv\")\n",
        "#dependant='Cost'\n",
        "#X = df[['nPassengers']]\n",
        "#point_of_interest=[91.]\n",
        "########################\n",
        "#df=pd.read_csv(\"http://algorain.com/Courses/Statistics/w1/Project_Data_Set.csv\")\n",
        "#dependant='Sales (Y)'\n",
        "#X = df[['Calls (X1)','Time (X2)','Years (X3)']]\n",
        "#point_of_interest=[160, 17, 3.]\n",
        "#########################################################################\n",
        "y1 = df[dependant]\n",
        "print(df.head())\n",
        "print('(rows,cols) =',df.shape)\n",
        "m=6 # display pesicion\n",
        "k=X.shape[1]\n",
        "n=X.shape[0]\n",
        "yBar=y1.mean()\n",
        "model = linear_model.LinearRegression()\n",
        "model.fit(X, y1)\n",
        "b1=model.coef_\n",
        "b0=model.intercept_\n",
        "pred_col=model.predict(X)\n",
        "SSR=((pred_col-yBar)**2).sum()\n",
        "dy=df[dependant]-pred_col\n",
        "SSE=(dy**2).sum()\n",
        "MSE=SSE/(n-k-1)\n",
        "se=np.sqrt(MSE)\n",
        "R2=SSR/(SSR+SSE)\n",
        "R=np.sqrt(R2)\n",
        "AdjR2=1-SSE*(n-1)/((SSR+SSE)*(n-k-1))\n",
        "print('\\nSUMMARY OUTPUT\\n')\n",
        "print('Regression Statistics')\n",
        "print('Multiple R:\\t', R)\n",
        "print('R square:\\t', R2)\n",
        "print('Adjasted R:\\t', AdjR2)\n",
        "print('Observations:\\t', n)\n",
        "print('\\nANOVA')\n",
        "MSR=SSR/k\n",
        "MSE=SSE/(n-k-1)\n",
        "F=MSR/MSE\n",
        "p = 1 - f.cdf(F,k,n-k-1)\n",
        "d={'':['Regression','Residual','Total'],\\\n",
        "   'df':[k,\tn-k-1, n-1],\\\n",
        "   'SS':[str(np.round(SSR,m)),str(np.round(SSE,m)),str(np.round(SSE+SSR,m))],\\\n",
        "   'MS':[str(np.round(MSR,m)),str(np.round(MSE,m)),''],\\\n",
        "   'F':[str(np.round(F,m)),'',''],\\\n",
        "   'Significance':[str(np.round(p,2*m)),'','']}\n",
        "df = pd.DataFrame(d) \n",
        "print(df)\n",
        "s='\\nModel: '+dependant+\" = \"+str(np.round(b0,m))\n",
        "i=0\n",
        "for col in X.columns:\n",
        "    s+=' + ('+str(np.round(b1[i],m))+') * '+col\n",
        "    i+=1\n",
        "print(s)\n",
        "print('\\nFor X =', point_of_interest,'  Y =',b0+(b1*point_of_interest).sum())"
      ],
      "metadata": {
        "colab": {
          "base_uri": "https://localhost:8080/"
        },
        "id": "6GQJgRwCn6vR",
        "outputId": "a903f26c-8e05-425b-abe3-81e601d3514f"
      },
      "execution_count": null,
      "outputs": [
        {
          "output_type": "stream",
          "name": "stdout",
          "text": [
            "   Price  Footage  Age\n",
            "0   63.0     1605   35\n",
            "1   65.1     2489   45\n",
            "2   69.9     1553   20\n",
            "3   76.8     2404   32\n",
            "4   73.9     1884   25\n",
            "(rows,cols) = (23, 3)\n",
            "\n",
            "SUMMARY OUTPUT\n",
            "\n",
            "Regression Statistics\n",
            "Multiple R:\t 0.8608726813513168\n",
            "R square:\t 0.7411017734970058\n",
            "Adjasted R:\t 0.7152119508467064\n",
            "Observations:\t 23\n",
            "\n",
            "ANOVA\n",
            "               df           SS           MS          F  Significance\n",
            "0  Regression   2  8189.723012  4094.861506  28.625216  1.352978e-06\n",
            "1    Residual  20  2861.016988   143.050849                         \n",
            "2       Total  22     11050.74                                      \n",
            "\n",
            "Model: Price = 57.350746 + (0.017718) * Footage + (-0.666348) * Age\n",
            "\n",
            "For X = [2500, 12.0]   Y = 93.64966107004997\n"
          ]
        }
      ]
    },
    {
      "cell_type": "markdown",
      "source": [
        "#2: ML prediction"
      ],
      "metadata": {
        "id": "M1Zq2RTQp-dO"
      }
    },
    {
      "cell_type": "code",
      "source": [
        "# see https://jovian.ai/aakashns/02-linear-regression\n",
        "# https://www.manning.com/books/deep-learning-with-python#toc\n",
        "import numpy as np\n",
        "import pandas as pd\n",
        "import torch\n",
        "from torch.utils.data import TensorDataset\n",
        "from torch.utils.data import DataLoader\n",
        "import torch.nn as nn\n",
        "import torch.nn.functional as F\n",
        "##  Enter your data #################\n",
        "df=pd.read_csv(\"http://algorain.com/Courses/Statistics/w1/Project_Data_Set.csv\")\n",
        "dependant='Sales (Y)'\n",
        "X = df[['Calls (X1)','Time (X2)','Years (X3)']]\n",
        "point_of_interest=[160, 17, 3.]\n",
        "batch_size = 5\n",
        "learning_rate=1e-5\n",
        "nEpoch=100\n",
        "nStep=10\n",
        "####################\n",
        "print(df.head())\n",
        "inputs=df.to_numpy()[:,1:4]\n",
        "targets=df.to_numpy()[:,0:1]\n",
        "inputs=np.array(inputs,dtype='float32')\n",
        "targets=np.array(targets,dtype='float32')\n",
        "inputs = torch.from_numpy(inputs)\n",
        "targets = torch.from_numpy(targets)#data is converted\n",
        "\n",
        "train_ds = TensorDataset(inputs, targets)# Define dataset\n",
        "train_dl = DataLoader(train_ds, batch_size, shuffle=True)# Define data loader\n",
        "model = nn.Linear(3, 1)# Define model\n",
        "loss_fn = F.mse_loss# Define loss function\n",
        "opt = torch.optim.SGD(model.parameters(), lr=learning_rate)# Define optimizer\n",
        "def fit(num_epochs, model, loss_fn, opt, train_dl):# Define Utility function\n",
        "  for epoch in range(num_epochs):# Repeat for given number of epochs\n",
        "    for xb,yb in train_dl:# Train with batches of data\n",
        "      pred = model(xb)          # 1. Generate predictions\n",
        "      loss = loss_fn(pred, yb)  # 2. Calculate loss\n",
        "      loss.backward()           # 3. Compute gradients\n",
        "      opt.step()                # 4. Update parameters using gradients\n",
        "      opt.zero_grad()           # 5. Reset the gradients to zero\n",
        "    if (epoch+1) % nStep == 0:# Print the progress\n",
        "      print('Epoch [{}/{}], Loss: {:.4f}'.format(epoch+1, num_epochs, loss.item()))\n",
        "\n",
        "fit(nEpoch, model, loss_fn, opt, train_dl)# train the model\n",
        "w=model.weight.detach().numpy()[0]\n",
        "b0=model.bias.detach().numpy()[0]\n",
        "pred1=model(torch.tensor([point_of_interest]))\n",
        "#print('\\nPrediction for',point_of_interest,' is',float(pred1[0][0]) )\n",
        "s='\\nCurrent Model: '+dependant+\" = \"+str(np.round(b0,m))\n",
        "i=0\n",
        "for col in X.columns:\n",
        "    s+=' + ('+str(np.round(w[i],m))+') * '+col\n",
        "    i+=1\n",
        "print(s)\n",
        "print('\\nPrediction for or X =', point_of_interest,'is  Y =',b0+(w*point_of_interest).sum())"
      ],
      "metadata": {
        "colab": {
          "base_uri": "https://localhost:8080/"
        },
        "id": "N5bKPuVkGkh3",
        "outputId": "5d8b8824-383a-49cc-8f36-4166f0a5101a"
      },
      "execution_count": null,
      "outputs": [
        {
          "output_type": "stream",
          "name": "stdout",
          "text": [
            "   Sales (Y)  Calls (X1)  Time (X2)  Years (X3)   Type\n",
            "0         37         131       16.9           2  GROUP\n",
            "1         44         134       19.4           3  GROUP\n",
            "2         33         139       19.3           3  GROUP\n",
            "3         40         145       14.7           2  GROUP\n",
            "4         35         149       15.6           1  GROUP\n",
            "Epoch [10/100], Loss: 33.9290\n",
            "Epoch [20/100], Loss: 204.0234\n",
            "Epoch [30/100], Loss: 36.2261\n",
            "Epoch [40/100], Loss: 37.3209\n",
            "Epoch [50/100], Loss: 170.5785\n",
            "Epoch [60/100], Loss: 102.8801\n",
            "Epoch [70/100], Loss: 58.0209\n",
            "Epoch [80/100], Loss: 159.0791\n",
            "Epoch [90/100], Loss: 157.5058\n",
            "Epoch [100/100], Loss: 210.9425\n",
            "\n",
            "Current Model: Sales (Y) = 0.043121 + (0.248415) * Calls (X1) + (0.23029) * Time (X2) + (-0.333607) * Years (X3)\n",
            "\n",
            "Prediction for or X = [160, 17, 3.0] is  Y = 42.70359779894352\n"
          ]
        }
      ]
    },
    {
      "cell_type": "markdown",
      "source": [
        "# 3: Predict with the tree classifier"
      ],
      "metadata": {
        "id": "6CuymTJBEG3S"
      }
    },
    {
      "cell_type": "code",
      "source": [
        "# https://www.youtube.com/watch?v=cKxRvEZd3Mw\n",
        "from sklearn import tree\n",
        "bumpy=1\n",
        "smooth=0\n",
        "##  Enter your data #################\n",
        "fruit_of_interest=[125,bumpy]\n",
        "#########################\n",
        "features=[[150,bumpy],[170,bumpy],[140,smooth],[130,smooth]]\n",
        "labels=['orange','orange','apple','apple']\n",
        "clf=tree.DecisionTreeClassifier()\n",
        "clf=clf.fit(features,labels)\n",
        "print(str(fruit_of_interest)+' is '+str(clf.predict([fruit_of_interest])))"
      ],
      "metadata": {
        "colab": {
          "base_uri": "https://localhost:8080/"
        },
        "id": "HHVKQVnKnYr8",
        "outputId": "8ea509a9-dcbd-44ba-f0e6-e793f54935c7"
      },
      "execution_count": null,
      "outputs": [
        {
          "output_type": "stream",
          "name": "stdout",
          "text": [
            "[125, 1] is ['apple']\n"
          ]
        }
      ]
    },
    {
      "cell_type": "markdown",
      "source": [
        "# 4: Predict with the SVM classifier"
      ],
      "metadata": {
        "id": "QCHSzOHlrREE"
      }
    },
    {
      "cell_type": "code",
      "source": [
        "# https://www.youtube.com/watch?v=cKxRvEZd3Mw\n",
        "from sklearn import svm\n",
        "bumpy=1\n",
        "smooth=0\n",
        "##  Enter your data #################\n",
        "fruit_of_interest=[125,bumpy]\n",
        "#########################\n",
        "features=[[150,bumpy],[170,bumpy],[140,smooth],[130,smooth]]\n",
        "labels=['orange','orange','apple','apple']\n",
        "clf=svm.SVC(gamma=0.001, C=100.)\n",
        "clf=clf.fit(features,labels)\n",
        "print(str(fruit_of_interest)+' is '+str(clf.predict([fruit_of_interest])))"
      ],
      "metadata": {
        "colab": {
          "base_uri": "https://localhost:8080/"
        },
        "id": "tVnynliupo1q",
        "outputId": "4bc01176-3868-4daf-b53d-df32c99944b4"
      },
      "execution_count": null,
      "outputs": [
        {
          "output_type": "stream",
          "name": "stdout",
          "text": [
            "[125, 1] is ['apple']\n"
          ]
        }
      ]
    }
  ]
}